{
 "metadata": {
  "name": ""
 },
 "nbformat": 3,
 "nbformat_minor": 0,
 "worksheets": [
  {
   "cells": [
    {
     "cell_type": "heading",
     "level": 1,
     "metadata": {},
     "source": [
      "Project Report"
     ]
    },
    {
     "cell_type": "code",
     "collapsed": false,
     "input": [
      "%load_ext rmagic"
     ],
     "language": "python",
     "metadata": {},
     "outputs": [],
     "prompt_number": 1
    },
    {
     "cell_type": "markdown",
     "metadata": {},
     "source": [
      "Team Members: Brandon Flannery, Sarah Ouyang, Justin Sampson, Xiaoqin Zhou"
     ]
    },
    {
     "cell_type": "heading",
     "level": 2,
     "metadata": {},
     "source": [
      "Question"
     ]
    },
    {
     "cell_type": "markdown",
     "metadata": {},
     "source": [
      "The question we sought to answer with our analysis was what effect speech senitments by economically relevant figures have on financial markets. Our hypothesis was that speeches from these figures with a positive sentiment would be positively correlated with price movements in the S&P500 and would be inversely coorelated with the VIX, as the S&P and VIX are inversely correlated.  "
     ]
    },
    {
     "cell_type": "heading",
     "level": 2,
     "metadata": {},
     "source": [
      "Data "
     ]
    },
    {
     "cell_type": "markdown",
     "metadata": {},
     "source": [
      "Our data was compiled from a variety of different sources. For the text of our speeches we searched White House repositories and other speech banks in order to populate our speech library. After the speech library was populated, we had to write extraction scripts to turn our collection of speeches into an indexable list. From here we then created a program to calculate the sentiment for a given speech. We then applied this function over the entire list of speeches to get our speech sentiment vector. We then gathered data from the web as a control: the federal funds rate, the unemployment rate, and the ratio of Republicans to Democrats in Congress. Our final pieces of data were gathered from the Bloomberg Terminal on the minute by minute price movements of the S&P500 and VIX indexes on the days that the speeches were given.    "
     ]
    },
    {
     "cell_type": "heading",
     "level": 2,
     "metadata": {},
     "source": [
      "Challenges"
     ]
    },
    {
     "cell_type": "heading",
     "level": 3,
     "metadata": {},
     "source": [
      "Function Writing"
     ]
    },
    {
     "cell_type": "markdown",
     "metadata": {},
     "source": [
      "Considering our data came from several different data files, it was very difficult to debug our programs in order to calculate speech sentiments, S&P 500 price changes, and VIX Price Changes. Also, programs for extraction and speech sentiment were difficult due to their need for application across speeches of different formats and sources. "
     ]
    },
    {
     "cell_type": "heading",
     "level": 3,
     "metadata": {},
     "source": [
      "Time Consistency"
     ]
    },
    {
     "cell_type": "markdown",
     "metadata": {},
     "source": [
      "One challenge that we had was finding a way to consolidate the minute by minute data we had from the Bloomberg terminal and the static speech sentiment on a given day for a given speech. We decided that the best way to deal with the time discrepancies was to create a static measure of price movement by taking the percent change from one hour before the speech began to two hours after the speech ended. Ideally we would have liked to plot the change in speech sentiment minute by minute and plot that against the minute by minute change in indexes. However we did not have a rate of speaking for each of the officials, and an estimated words per minute on such a small time interval would have been extremely inaccurate.  "
     ]
    },
    {
     "cell_type": "heading",
     "level": 3,
     "metadata": {},
     "source": [
      "Cleaning the Data "
     ]
    },
    {
     "cell_type": "markdown",
     "metadata": {},
     "source": [
      "Writing the scripts to clean the data and make it readable was challenging. Various characters had to be replaced, and the row labels and time stamps had to be accounted for. Finally getting all of the bugs out of the cleaning scripts took a large portion of time, but was necessary for the success of the project.  "
     ]
    },
    {
     "cell_type": "heading",
     "level": 3,
     "metadata": {},
     "source": [
      "Twitter Mining"
     ]
    },
    {
     "cell_type": "markdown",
     "metadata": {},
     "source": [
      "We had originally planned to use Twitter data as a proxy for public presence, and then control for it in our regression. However it seems that Twitter is an excellent source for real-time Tweet counting but less of a past-data repository. The search API would only allow a fraction of the tweets on a given day to be counted, rendering this effort in the project ineffective. "
     ]
    },
    {
     "cell_type": "heading",
     "level": 2,
     "metadata": {},
     "source": [
      "Findings"
     ]
    },
    {
     "cell_type": "markdown",
     "metadata": {},
     "source": [
      "After analyzing our data over the entire domain of speakers and their speeches we found significant direct correlation between speech sentiment and price movements. Improvement of the speech sentiment program could improve this correlation. An important part of these findings is that speeches only cause short term price movements, closely followed by a market correction sending the market back to pre-speech price levels. "
     ]
    },
    {
     "cell_type": "code",
     "collapsed": false,
     "input": [
      "%%R \n",
      "\n",
      "source('./script/masterupload')"
     ],
     "language": "python",
     "metadata": {},
     "outputs": [],
     "prompt_number": 3
    },
    {
     "cell_type": "code",
     "collapsed": false,
     "input": [
      "%%R\n",
      "\n",
      "source('./visualizations/bushregtable')"
     ],
     "language": "python",
     "metadata": {},
     "outputs": [
      {
       "metadata": {},
       "output_type": "display_data",
       "text": [
        "\n",
        "Call:\n",
        "lm(formula = data$ChangeSP ~ data$Speech + data$SenateRep + data$HORRep + \n",
        "    data$Unemployment + data$FedFunds, data = bushdata)\n",
        "\n",
        "Residuals:\n",
        "      Min        1Q    Median        3Q       Max \n",
        "-0.049805 -0.002508 -0.000082  0.003188  0.090299 \n",
        "\n",
        "Coefficients:\n",
        "                   Estimate Std. Error t value Pr(>|t|)\n",
        "(Intercept)       -0.033823   0.141318  -0.239    0.811\n",
        "data$Speech       -0.002870   0.020038  -0.143    0.886\n",
        "data$SenateRep     0.144689   0.228199   0.634    0.527\n",
        "data$HORRep       -0.034097   0.115713  -0.295    0.769\n",
        "data$Unemployment -0.001739   0.003980  -0.437    0.663\n",
        "data$FedFunds     -0.004297   0.002883  -1.491    0.139\n",
        "\n",
        "Residual standard error: 0.01572 on 119 degrees of freedom\n",
        "  (9 observations deleted due to missingness)\n",
        "Multiple R-squared:  0.03089,\tAdjusted R-squared:  -0.009824 \n",
        "F-statistic: 0.7587 on 5 and 119 DF,  p-value: 0.5813\n",
        "\n"
       ]
      }
     ],
     "prompt_number": 5
    },
    {
     "cell_type": "heading",
     "level": 3,
     "metadata": {},
     "source": [
      "Final Conclusion"
     ]
    },
    {
     "cell_type": "heading",
     "level": 4,
     "metadata": {},
     "source": [
      "Analysis of this data set leads to the following conclusion: the market evidently reacts to speeches given by key political/financial figures, often reacting in a way coorelating to the sentiment of the speech. However, this market reaction does not result in long term price changes; the price change provoked by a political speech experiences a correction within the next few hours. \n"
     ]
    },
    {
     "cell_type": "heading",
     "level": 4,
     "metadata": {},
     "source": [
      "This \"market correction\" can be seen in the trend reversal that often takes the price back to pre-speech levels. This reversal is either the price rising after a post-speech price-drop or a price-drop following a post-speech price spike. This \"market correction\" can be seen repeatedly throughout the data set. The existence of this \"correction\" is an interesting aspect of this analysis. This \"correction\" can be well explained through theories in behavioral finance. "
     ]
    },
    {
     "cell_type": "heading",
     "level": 4,
     "metadata": {},
     "source": [
      "As seen in all of these samples, regardless of the sentiment of the speech, no speech ever causes more than a 10% change in the market. In these examples, one could argue that the oscillating prices over the course of a day are just due to noise. Many argue these price movements are random and are uncorrelated to the occurrence of a speech; however, there is good explation now for these oscillations--an explanation that well-relates to this project. Behavioral Financial Thoery splits the market participants into two groups. These two groups are institutional investors (Goldman Sachs, Merrill Lynch, Morgan Stanley employees) and Type-B&C Investors (not involved in the markets daily). "
     ]
    },
    {
     "cell_type": "heading",
     "level": 4,
     "metadata": {},
     "source": [
      "Some of this theory, and my explanation to certain phenomena in this data, cites the reason for market noise or constant short-term market corrections as an asymmetry of information between these two groups. Type-B&C Investors have limited information regarding the market. They do not subscribe to expensive financial news or instruments as do financial professionals. Their source for information regarding the market is public news, advice, and their own judgement of market history. On the other hand, institutional investors have a plethora of information and financial education at their fingertips. Because of their close connections with government officials and well-funded research budget, financial professionals are usually well aware of the current state and trend of the market. In fact, they have likely already set the market trend with their investments made upon initially receiving their financial information. Oppositely, Type-B&C investors do not have this information prior to the speeches given by political officials. A speech given by a political official is one of their largest sources for financial information, and this is the information they usually use for their investments. Because political officials charge their speeches with rhetoric, the positivity or negativity of their speech can often affect how it recieved by these Type-B&C investors; thus, they are often provoked to invest according to the sentiment of the speech. This release of information is the explanation for immediate market reaction to a speech. Type-B&C investors react to the most currently available information, and often act emotionally due to their lack of finanial equipment and education. \n"
     ]
    },
    {
     "cell_type": "heading",
     "level": 4,
     "metadata": {},
     "source": [
      "These B&C Investors help explain the direct and immediate price and sentiment correlation; however, I must still account for the correction that follows these price movements. In almost every case of trend reversal due to a speech, the market quickly reverses again to pre-speech levels. The reason for this \"correction\" is the superior information held by institutional investors. As explained previously, institutional investors often hold information divulged to an audience in a speech before the speech even occurs. They have already used this information to invest accordingly, and in doing so have established their own trend. Speeches can often reverse this trend or amplify it, depending on its sentiment and reception. Regardless, these speeches often move the market from its current trend. Because of their asymmetric knowledge of the market, institutional investors use this trend deviation as an avenue for profit. Since they are already confident of the market trend and financial history, they know a speech cannot completely shift a market. So, with this deviation they either sell stocks at an overvalued price, or buy stocks at an undervalued price, thus rebalancing the market to pre-speech price levels. "
     ]
    },
    {
     "cell_type": "heading",
     "level": 4,
     "metadata": {},
     "source": [
      "This theory and explanation inherits from Behavioral Economic Theory. "
     ]
    },
    {
     "cell_type": "heading",
     "level": 4,
     "metadata": {},
     "source": [
      "Overall, this verbose explanation set aside, the conclusion to this analysis is as follows. The market reacts to speeches given by political officials. Depending on the topic and its relevance to the market, the sentiment of a given speech has shown to be directly correlated to price movements. EG) Large sentiment value correlates with SPY price spikes and drops in the VIX price. Many samples in this dataset show this correlation for both the S&P and the VIX, others show a correlation for only the VIX or S&P, and others show no correlation. However, conclusively, there is a correlation between the two and I believe revising and updating the sentiment analysis program could help better coorelate the two. "
     ]
    },
    {
     "cell_type": "heading",
     "level": 5,
     "metadata": {},
     "source": [
      "Thank you for reading, and if you would like, please do explore the data further by utilizing the \"Random Analysis\" cells in the Data Analysis portion of the report. If you have any other questions regarding the project, please contact brandonjflannery@berkeley.edu. "
     ]
    }
   ],
   "metadata": {}
  }
 ]
}