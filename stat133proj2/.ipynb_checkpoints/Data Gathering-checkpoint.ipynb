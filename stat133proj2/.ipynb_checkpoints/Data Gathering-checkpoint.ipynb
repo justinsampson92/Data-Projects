{
 "metadata": {
  "name": ""
 },
 "nbformat": 3,
 "nbformat_minor": 0,
 "worksheets": [
  {
   "cells": [
    {
     "cell_type": "heading",
     "level": 1,
     "metadata": {},
     "source": [
      "Data Gathering"
     ]
    },
    {
     "cell_type": "markdown",
     "metadata": {},
     "source": [
      "Team Members: Brandon Flannery, Sarah Ouyang, Justin Sampson, Xiaoqin Zhou"
     ]
    },
    {
     "cell_type": "heading",
     "level": 2,
     "metadata": {},
     "source": [
      "Data Links"
     ]
    },
    {
     "cell_type": "markdown",
     "metadata": {},
     "source": [
      "1. http://www.federalreserve.gov/newsevents/speech/\n",
      "2. http://whitehouse.gove/the-press-office/\n",
      "3. http://georgewbush-whitehouse.archives.gov/news/releases\n",
      "4. http://infoplease.com/ipa/A0774721.html\n",
      "5. http://www.newyorkfed.org/charts/ff/\n",
      "6. http://data.bls.gov/timeseries/LNS14000000\n",
      "7. Bloomberg Terminal"
     ]
    },
    {
     "cell_type": "heading",
     "level": 2,
     "metadata": {},
     "source": [
      "Data Description"
     ]
    },
    {
     "cell_type": "markdown",
     "metadata": {},
     "source": [
      "1. This source provided speech text for Ben Bernanke, Daniel Tarullo, The FMOC, The FRB, and Janet Yellen.\n",
      "2. Speech text for Barack Obama.\n",
      "3. Speech text for George Bush.\n",
      "4. Information on the party breakdown in Congress. \n",
      "5. Historical Federal Funds Rate.\n",
      "6. Historical national unemployment rates.\n",
      "7. On the Minute Price Data "
     ]
    },
    {
     "cell_type": "heading",
     "level": 4,
     "metadata": {},
     "source": [
      "The data with the two variable names below was collected in Excel and then converted into a csv file for upload. \n"
     ]
    },
    {
     "cell_type": "heading",
     "level": 4,
     "metadata": {},
     "source": [
      "The two variables names, data and pricedata, represent several different data points from each selected speech and the price data of the S&P500 and the VIX on the days of those individual speeches, respectively.\n",
      "\n"
     ]
    },
    {
     "cell_type": "code",
     "collapsed": false,
     "input": [
      "%pylab inline\n",
      "%load_ext rmagic"
     ],
     "language": "python",
     "metadata": {},
     "outputs": [
      {
       "output_type": "stream",
       "stream": "stdout",
       "text": [
        "Populating the interactive namespace from numpy and matplotlib\n"
       ]
      }
     ],
     "prompt_number": 1
    },
    {
     "cell_type": "code",
     "collapsed": false,
     "input": [
      "%%bash\n",
      "mkdir ./script ./data ./data/raw  ./data/cleaned ./visualizations"
     ],
     "language": "python",
     "metadata": {},
     "outputs": [
      {
       "output_type": "stream",
       "stream": "stderr",
       "text": [
        "mkdir: ./script: File exists\n",
        "mkdir: ./data: File exists\n",
        "mkdir: ./data/raw: File exists\n",
        "mkdir: ./data/cleaned: File exists\n",
        "mkdir: ./visualizations: File exists\n"
       ]
      }
     ],
     "prompt_number": 18
    },
    {
     "cell_type": "code",
     "collapsed": false,
     "input": [
      "%%file ./script/datagrab\n",
      "\n",
      "pricedata_url = \"https://bspace.berkeley.edu/access/content/user/874797/stat133projdataprice.csv\"\n",
      "regressiondata_url = \"https://bspace.berkeley.edu/access/content/user/874797/stat133proj2data2a.csv\"\n",
      "price_file= './data/raw/pricedata.csv'\n",
      "regression_file= './data/raw/regressiondata.csv'\n",
      "#download.file(pricedata_url, price_file, method = 'curl')\n",
      "#download.file(regressiondata_url, regression_file, method = 'curl')\n",
      "pricedata=read.csv(price_file, header=TRUE, sep=\",\")\n",
      "data=read.table(regression_file, header=TRUE, sep=\",\")\n"
     ],
     "language": "python",
     "metadata": {},
     "outputs": [
      {
       "output_type": "stream",
       "stream": "stdout",
       "text": [
        "Overwriting ./script/datagrab\n"
       ]
      }
     ],
     "prompt_number": 20
    },
    {
     "cell_type": "markdown",
     "metadata": {},
     "source": [
      "The above script is for downloading the data and reading it into R. There are two data files, one with the minute by minute prices of the S&P500 and the VIX, and the other is of the speech sentiments and other variables used for vizualizations and regressions. "
     ]
    },
    {
     "cell_type": "heading",
     "level": 4,
     "metadata": {},
     "source": [
      "Example of the \"pricedata\" data set"
     ]
    },
    {
     "cell_type": "code",
     "collapsed": false,
     "input": [
      "%%R\n",
      "\n",
      "print(head(pricedata))"
     ],
     "language": "python",
     "metadata": {},
     "outputs": [
      {
       "output_type": "stream",
       "stream": "stdout",
       "text": [
        "Error in head(pricedata) : object 'pricedata' not found\n"
       ]
      }
     ],
     "prompt_number": 4
    },
    {
     "cell_type": "heading",
     "level": 4,
     "metadata": {},
     "source": [
      "Example of the \"data\" data set"
     ]
    },
    {
     "cell_type": "code",
     "collapsed": false,
     "input": [
      "%%R\n",
      "\n",
      "print(head(data))"
     ],
     "language": "python",
     "metadata": {},
     "outputs": [
      {
       "metadata": {},
       "output_type": "display_data",
       "text": [
        "                                                                     \n",
        "1 function (..., list = character(), package = NULL, lib.loc = NULL, \n",
        "2     verbose = getOption(\"verbose\"), envir = .GlobalEnv)            \n",
        "3 {                                                                  \n",
        "4     fileExt <- function(x) {                                       \n",
        "5         db <- grepl(\"\\\\\\\\.[^.]+\\\\\\\\.(gz|bz2|xz)$\", x)              \n",
        "6         ans <- sub(\".*\\\\\\\\.\", \"\", x)                               \n"
       ]
      }
     ],
     "prompt_number": 5
    },
    {
     "cell_type": "heading",
     "level": 4,
     "metadata": {},
     "source": [
      "Variable and column names of the dataset for future access"
     ]
    },
    {
     "cell_type": "code",
     "collapsed": false,
     "input": [
      "%%file ./script/variablenames \n",
      "\n",
      "Name=data$Name # this is the name of the speaker\n",
      "Position=data$Position # this is the position that the speaker holds\n",
      "Sent=data$Speech # float value for the average sentiment of the speech\n",
      "Day=data$Day # date that the speech was given\n",
      "Time=data$Time # start time of the speech\n",
      "Title=data$Title #Title or Topic of the speech\n",
      "Link=data$Link # this is the link to the speech\n",
      "Change=data$Change #percent change of market from start to finish of the 3 hour speech interval\n",
      "EndTime=data$Endtime #this is the end time of the speech if available\n",
      "Rep=data$Rep #this is a boolean number value to tell the speaker's political party\n",
      "Dem=data$Dem #this is a boolean number value to tell the speaker's political party\n",
      "SenateRep= data$SenateRep # percentage of senators that were republican at time of speech\n",
      "HORRep = data$HORRep # percentage of House of Representative Members that were republican at time of speech\n",
      "Umemployment=data$Unemployment #represents umemployment percentage at time of speech\n",
      "FedFunds = data$FedFunds #represents the Federal Funds Rate at the time of the speech\n"
     ],
     "language": "python",
     "metadata": {},
     "outputs": [
      {
       "output_type": "stream",
       "stream": "stdout",
       "text": [
        "Overwriting ./script/variablenames\n"
       ]
      }
     ],
     "prompt_number": 6
    },
    {
     "cell_type": "markdown",
     "metadata": {},
     "source": [
      "Here is a data cleaning script in order to change the Day format into a \"XMonth.Day.Year\" format, so that you can use that date in order to access the pricedata dataframe to fetch prices. \n",
      "\n"
     ]
    },
    {
     "cell_type": "heading",
     "level": 4,
     "metadata": {},
     "source": [
      "eg) Day[2]= \"X12.16.13\""
     ]
    },
    {
     "cell_type": "heading",
     "level": 4,
     "metadata": {},
     "source": [
      "    pricedata[, \"X12.16.13\"] = pricedata[, Day[2]]\n"
     ]
    },
    {
     "cell_type": "markdown",
     "metadata": {},
     "source": [
      "What follows is the master cleaning script, an explanation of each function will follow. "
     ]
    },
    {
     "cell_type": "code",
     "collapsed": false,
     "input": [
      "%%file ./script/masterdatacleaning\n",
      "\n",
      "data$Day=sub(\"/\", \".\", data$Day)\n",
      "data$Day= sub('/', '.', data$Day)\n",
      "data$Day=paste(\"X\", data$Day, sep=\"\")\n",
      "Day=as.name(data$Day)\n",
      "#to access dataprice use \"pricedata[,data$Day[day]]\"\n",
      "Daydict=vector(mode='list', length=length(data$Day))\n",
      "names(Daydict)=data$Day\n",
      "Daydict[1:length(data$Day)]= c(1:length(data$Day))\n",
      "\n",
      "findprices=function(day){\n",
      "  if(any(names(pricedata)== day)){\n",
      "  index=as.integer(Daydict[day])\n",
      "  return(pricedata[,data$Day[index]])\n",
      "  }\n",
      "  else{return(NA)}\n",
      "  \n",
      "}\n",
      "\n",
      "timetomins=function(timeofspeech){\n",
      "  x=sub(\":\", \" \", timeofspeech)\n",
      "  a=strsplit(x, \" \")\n",
      "  a=unlist(a)\n",
      "  b=as.numeric(a[1])\n",
      "  c=as.numeric(a[2])\n",
      "  if (b<8){\n",
      "    b=b+12\n",
      "  }\n",
      "  return(b*60+c)\n",
      "  \n",
      "}\n",
      "\n",
      "timetointervalsp= function(time){\n",
      "  mins=timetomins(time)\n",
      "  if(mins < (390+60)){\n",
      "    return(c(406, 406-180))\n",
      "  }\n",
      "  if(mins > 780-120){\n",
      "    return(c(2+180, 2))\n",
      "  }\n",
      "  else{\n",
      "    return(c(406-(mins-390-60), (406-(mins-390+120))))\n",
      "  }\n",
      "}\n",
      "\n",
      "timetointervalvix= function(time){\n",
      "  mins=timetomins(time)\n",
      "  if(mins < (390+60)){\n",
      "    return(c(1219, 1219-180))\n",
      "  }\n",
      "  if(mins > 780-120){\n",
      "    return(c(2+180, 2))\n",
      "  }\n",
      "  else{\n",
      "    return(c(1219-(mins-390-60), (1219-(mins-390+120))))\n",
      "  }\n",
      "}\n",
      "\n",
      "percentchangesp=function(day, time){\n",
      "  x=timetointervalsp(time)\n",
      "  prices=findprices(day)\n",
      "  first=x[1]\n",
      "  last=x[2]\n",
      "  pfirst=as.numeric(as.character(prices[first]))\n",
      "  plast=as.numeric(as.character(prices[last]))\n",
      "  return((plast-pfirst)/pfirst)\n",
      "}\n",
      "\n",
      "percentchangevix=function(day, time){\n",
      "  x=timetointervalvix(time)\n",
      "  prices=findprices(day)\n",
      "  first=x[1]\n",
      "  last=x[2]\n",
      "  pfirst=as.numeric(as.character(prices[first]))\n",
      "  plast=as.numeric(as.character(prices[last]))\n",
      "  return((plast-pfirst)/pfirst)\n",
      "}\n",
      "\n"
     ],
     "language": "python",
     "metadata": {},
     "outputs": [
      {
       "output_type": "stream",
       "stream": "stdout",
       "text": [
        "Overwriting ./script/masterdatacleaning\n"
       ]
      }
     ],
     "prompt_number": 7
    },
    {
     "cell_type": "code",
     "collapsed": false,
     "input": [
      "%%file ./script/datecleaning\n",
      "\n",
      "data$Day=sub(\"/\", \".\", data$Day)\n",
      "data$Day= sub('/', '.', data$Day)\n",
      "data$Day=paste(\"X\", data$Day, sep=\"\")\n",
      "Day=as.name(data$Day)\n",
      "#to access dataprice use \"pricedata[,data$Day[day]]\"\n",
      "Daydict=vector(mode='list', length=length(data$Day))\n",
      "names(Daydict)=data$Day\n",
      "Daydict[1:length(data$Day)]= c(1:length(data$Day))"
     ],
     "language": "python",
     "metadata": {},
     "outputs": [
      {
       "output_type": "stream",
       "stream": "stdout",
       "text": [
        "Overwriting ./script/datecleaning\n"
       ]
      }
     ],
     "prompt_number": 8
    },
    {
     "cell_type": "heading",
     "level": 4,
     "metadata": {},
     "source": [
      "Script for the fetching the price data corresponding to a given day"
     ]
    },
    {
     "cell_type": "code",
     "collapsed": false,
     "input": [
      "%%file ./script/daypricefetch\n",
      "\n",
      "findprices=function(day){\n",
      "  if(any(names(pricedata)== day)){\n",
      "  index=as.integer(Daydict[day])\n",
      "  return(pricedata[,data$Day[index]])\n",
      "  }\n",
      "  else{return(NA)}\n",
      "  \n",
      "}\n"
     ],
     "language": "python",
     "metadata": {},
     "outputs": [
      {
       "output_type": "stream",
       "stream": "stdout",
       "text": [
        "Overwriting ./script/daypricefetch\n"
       ]
      }
     ],
     "prompt_number": 9
    },
    {
     "cell_type": "heading",
     "level": 4,
     "metadata": {},
     "source": [
      "Function to convert any given time in the \"hour:minutes\" format to a numeric value cooresponding to the minutes into the day. \n",
      "eg) \"8:00\" -> 480"
     ]
    },
    {
     "cell_type": "code",
     "collapsed": false,
     "input": [
      "%%file ./script/converttimetominutes\n",
      "timetomins=function(timeofspeech){\n",
      "  x=sub(\":\", \" \", timeofspeech)\n",
      "  a=strsplit(x, \" \")\n",
      "  a=unlist(a)\n",
      "  b=as.numeric(a[1])\n",
      "  c=as.numeric(a[2])\n",
      "  if (b<8){\n",
      "    b=b+12\n",
      "  }\n",
      "  return(b*60-180+c)\n",
      "  \n",
      "}"
     ],
     "language": "python",
     "metadata": {},
     "outputs": [
      {
       "output_type": "stream",
       "stream": "stdout",
       "text": [
        "Overwriting ./script/converttimetominutes\n"
       ]
      }
     ],
     "prompt_number": 10
    },
    {
     "cell_type": "heading",
     "level": 4,
     "metadata": {},
     "source": [
      "Function in order to convert any given time (in format \"hour:minutes\") to an 180 minute interval. This interval consists of 60 minutes before the given time and 120 minutes afterwards. This function uses timetomins as a helper function.\n",
      "\n",
      "The timetointervalsp function helps to fetch S&P 500 Index prices within the interval. \n",
      "The timetointervalvix function helps fetch VIX Index prices within the interval. "
     ]
    },
    {
     "cell_type": "code",
     "collapsed": false,
     "input": [
      "%%file ./script/timetointervalsp\n",
      "\n",
      "timetointervalsp= function(time){\n",
      "  mins=timetomins(time)\n",
      "  if(mins < (390+60)){\n",
      "    return(c(406, 406-180))\n",
      "  }\n",
      "  if(mins > 780-120){\n",
      "    return(c(2+180, 2))\n",
      "  }\n",
      "  else{\n",
      "    return(c(406-(mins-390-60), (406-(mins-390+120))))\n",
      "  }\n",
      "}\n",
      "\n",
      "timetointervalvix= function(time){\n",
      "  mins=timetomins(time)\n",
      "  if(mins < (390+60)){\n",
      "    return(c(1219, 1219-180))\n",
      "  }\n",
      "  if(mins > 780-120){\n",
      "    return(c(2+180, 2))\n",
      "  }\n",
      "  else{\n",
      "    return(c(1219-(mins-390-60), (1219-(mins-390+120))))\n",
      "  }\n",
      "}\n"
     ],
     "language": "python",
     "metadata": {},
     "outputs": [
      {
       "output_type": "stream",
       "stream": "stdout",
       "text": [
        "Overwriting ./script/timetointervalsp\n"
       ]
      }
     ],
     "prompt_number": 11
    },
    {
     "cell_type": "heading",
     "level": 4,
     "metadata": {},
     "source": [
      "These two functions take a day and a time as the parameters and then return a percentage change in the cooresponding indices over a 180 minute interval."
     ]
    },
    {
     "cell_type": "code",
     "collapsed": false,
     "input": [
      "%%file ./script/percentchanges\n",
      "\n",
      "percentchangesp=function(day, time){\n",
      "  x=timetointervalsp(time)\n",
      "  prices=findprices(day)\n",
      "  first=x[1]\n",
      "  last=x[2]\n",
      "  pfirst=as.numeric(as.character(prices[first]))\n",
      "  plast=as.numeric(as.character(prices[last]))\n",
      "  return((plast-pfirst)/pfirst)\n",
      "}\n",
      "\n",
      "percentchangevix=function(day, time){\n",
      "  x=timetointervalvix(time)\n",
      "  prices=findprices(day)\n",
      "  first=x[1]\n",
      "  last=x[2]\n",
      "  pfirst=as.numeric(as.character(prices[first]))\n",
      "  plast=as.numeric(as.character(prices[last]))\n",
      "  return((plast-pfirst)/pfirst)\n",
      "}"
     ],
     "language": "python",
     "metadata": {},
     "outputs": [
      {
       "output_type": "stream",
       "stream": "stdout",
       "text": [
        "Overwriting ./script/percentchanges\n"
       ]
      }
     ],
     "prompt_number": 12
    },
    {
     "cell_type": "markdown",
     "metadata": {},
     "source": [
      "Finally, all of these functions are used together in order to populate the ChangeSP and ChangeVIX vectors. "
     ]
    },
    {
     "cell_type": "code",
     "collapsed": false,
     "input": [
      "%%file ./script/vectoradd\n",
      "\n",
      "data$ChangeVix= mapply(percentchangevix, data$Day, data$Time)\n",
      "data$ChangeSP= mapply(percentchangesp, data$Day, data$Time)\n"
     ],
     "language": "python",
     "metadata": {},
     "outputs": [
      {
       "output_type": "stream",
       "stream": "stdout",
       "text": [
        "Overwriting ./script/vectoradd\n"
       ]
      }
     ],
     "prompt_number": 13
    },
    {
     "cell_type": "markdown",
     "metadata": {},
     "source": [
      "Below is simply an upload file for later pages. "
     ]
    },
    {
     "cell_type": "code",
     "collapsed": false,
     "input": [
      "%%file ./script/masterupload\n",
      "\n",
      "pricedata=read.csv(\"./data/raw/pricedata.csv\", header=TRUE, sep=\",\")\n",
      "data=read.table(\"./data/raw/regressiondata.csv\", header=TRUE, sep=\",\")\n",
      "data$Day=sub(\"/\", \".\", data$Day)\n",
      "data$Day= sub('/', '.', data$Day)\n",
      "data$Day=paste(\"X\", data$Day, sep=\"\")\n",
      "Day=as.name(data$Day)\n",
      "#to access dataprice use \"pricedata[,data$Day[day]]\"\n",
      "Daydict=vector(mode='list', length=length(data$Day))\n",
      "names(Daydict)=data$Day\n",
      "Daydict[1:length(data$Day)]= c(1:length(data$Day))\n",
      "\n",
      "findprices=function(day){\n",
      "  if(any(names(pricedata)== day)){\n",
      "  index=as.integer(Daydict[day])\n",
      "  return(pricedata[,data$Day[index]])\n",
      "  }\n",
      "  else{return(NA)}\n",
      "  \n",
      "}\n",
      "\n",
      "timetomins=function(timeofspeech){\n",
      "  x=sub(\":\", \" \", timeofspeech)\n",
      "  a=strsplit(x, \" \")\n",
      "  a=unlist(a)\n",
      "  b=as.numeric(a[1])\n",
      "  c=as.numeric(a[2])\n",
      "  if (b<8){\n",
      "    b=b+12\n",
      "  }\n",
      "  return(b*60+c)\n",
      "  \n",
      "}\n",
      "\n",
      "timetointervalsp= function(time){\n",
      "  mins=timetomins(time)\n",
      "  if(mins < (390+60)){\n",
      "    return(c(406, 406-180))\n",
      "  }\n",
      "  if(mins > 780-120){\n",
      "    return(c(2+180, 2))\n",
      "  }\n",
      "  else{\n",
      "    return(c(406-(mins-390-60), (406-(mins-390+120))))\n",
      "  }\n",
      "}\n",
      "\n",
      "timetointervalvix= function(time){\n",
      "  mins=timetomins(time)\n",
      "  if(mins < (390+60)){\n",
      "    return(c(1219, 1219-180))\n",
      "  }\n",
      "  if(mins > 780-120){\n",
      "    return(c(2+180, 2))\n",
      "  }\n",
      "  else{\n",
      "    return(c(1219-(mins-390-60), (1219-(mins-390+120))))\n",
      "  }\n",
      "}\n",
      "\n",
      "percentchangesp=function(day, time){\n",
      "  x=timetointervalsp(time)\n",
      "  prices=findprices(day)\n",
      "  first=x[1]\n",
      "  last=x[2]\n",
      "  pfirst=as.numeric(as.character(prices[first]))\n",
      "  plast=as.numeric(as.character(prices[last]))\n",
      "  return((plast-pfirst)/pfirst)\n",
      "}\n",
      "\n",
      "percentchangevix=function(day, time){\n",
      "  x=timetointervalvix(time)\n",
      "  prices=findprices(day)\n",
      "  first=x[1]\n",
      "  last=x[2]\n",
      "  pfirst=as.numeric(as.character(prices[first]))\n",
      "  plast=as.numeric(as.character(prices[last]))\n",
      "  return((plast-pfirst)/pfirst)\n",
      "}\n",
      "\n",
      "data$ChangeVix= mapply(percentchangevix, data$Day, data$Time)\n",
      "data$ChangeSP= mapply(percentchangesp, data$Day, data$Time)\n",
      "\n",
      "write.csv(data, \"./data/cleaned/data.csv\")\n",
      "write.csv(pricedata, \"./data/cleaned/pricedata.csv\")\n",
      "\n",
      "\n"
     ],
     "language": "python",
     "metadata": {},
     "outputs": [
      {
       "output_type": "stream",
       "stream": "stdout",
       "text": [
        "Overwriting ./script/masterupload\n"
       ]
      }
     ],
     "prompt_number": 14
    },
    {
     "cell_type": "code",
     "collapsed": false,
     "input": [
      "pricedata=read.csv(\"./data/cleaned/pricedata.csv\", header=TRUE, sep=\",\")\n",
      "data=read.csv(\"./data/cleaned/data.csv\", header=TRUE, sep=\",\")"
     ],
     "language": "python",
     "metadata": {},
     "outputs": [
      {
       "ename": "NameError",
       "evalue": "name 'read' is not defined",
       "output_type": "pyerr",
       "traceback": [
        "\u001b[0;31m---------------------------------------------------------------------------\u001b[0m\n\u001b[0;31mNameError\u001b[0m                                 Traceback (most recent call last)",
        "\u001b[0;32m<ipython-input-15-17b0266f9648>\u001b[0m in \u001b[0;36m<module>\u001b[0;34m()\u001b[0m\n\u001b[0;32m----> 1\u001b[0;31m \u001b[0mpricedata\u001b[0m\u001b[0;34m=\u001b[0m\u001b[0mread\u001b[0m\u001b[0;34m.\u001b[0m\u001b[0mcsv\u001b[0m\u001b[0;34m(\u001b[0m\u001b[0;34m\"./data/cleaned/pricedata.csv\"\u001b[0m\u001b[0;34m,\u001b[0m \u001b[0mheader\u001b[0m\u001b[0;34m=\u001b[0m\u001b[0mTRUE\u001b[0m\u001b[0;34m,\u001b[0m \u001b[0msep\u001b[0m\u001b[0;34m=\u001b[0m\u001b[0;34m\",\"\u001b[0m\u001b[0;34m)\u001b[0m\u001b[0;34m\u001b[0m\u001b[0m\n\u001b[0m\u001b[1;32m      2\u001b[0m \u001b[0mdata\u001b[0m\u001b[0;34m=\u001b[0m\u001b[0mread\u001b[0m\u001b[0;34m.\u001b[0m\u001b[0mcsv\u001b[0m\u001b[0;34m(\u001b[0m\u001b[0;34m\"./data/cleaned/data.csv\"\u001b[0m\u001b[0;34m,\u001b[0m \u001b[0mheader\u001b[0m\u001b[0;34m=\u001b[0m\u001b[0mTRUE\u001b[0m\u001b[0;34m,\u001b[0m \u001b[0msep\u001b[0m\u001b[0;34m=\u001b[0m\u001b[0;34m\",\"\u001b[0m\u001b[0;34m)\u001b[0m\u001b[0;34m\u001b[0m\u001b[0m\n",
        "\u001b[0;31mNameError\u001b[0m: name 'read' is not defined"
       ]
      }
     ],
     "prompt_number": 15
    },
    {
     "cell_type": "markdown",
     "metadata": {},
     "source": [
      "Below is a script for visualizations."
     ]
    },
    {
     "cell_type": "code",
     "collapsed": false,
     "input": [
      "%%file ./visualizations/maxview\n",
      "\n",
      "print(c(\"Speaker:\", as.character(data$Name[data$Speech == max(data$Speech)])))\n",
      "print(c(\"Title:\", as.character(data$Link[data$Speech == max(data$Speech)])))\n",
      "\n",
      "maxsent=data$Day[data$Speech == max(data$Speech)]\n",
      "print(c(\"Date:\", maxsent))\n",
      "maxsenttime=data$Time[data$Speech == max(data$Speech)]\n",
      "print(c(\"Time:\", as.character(maxsenttime)))\n",
      "maxsenttimemins=timetomins(maxsenttime)-390\n",
      "print(c(\"Minutes into Market:\",maxsenttimemins))\n",
      "plot(x=2:810, as.numeric(as.character(pricedata[, maxsent][2:810])), ylab=\"SPY Prices\", main=\"S&P 500 Prices on May 19, 2008\", xlab=\"Minutes into Market Hours | 9:30-4:00\")\n",
      "abline(v=maxsenttimemins, col=\"red\" )\n",
      "plot(x=1:808, as.numeric(as.character(pricedata[, maxsent][815:1622])), ylab=\"VIX Prices\", main=\"VIX Prices on May 19, 2008\", xlab=\"Minutes into Market Hours | 9:30-4:00\")\n",
      "abline(v=maxsenttimemins, col=\"red\" )"
     ],
     "language": "python",
     "metadata": {},
     "outputs": []
    },
    {
     "cell_type": "code",
     "collapsed": false,
     "input": [
      "%%file ./visualizations/minview\n",
      "\n",
      "print(c(\"Speaker:\", as.character(data$Name[data$Speech == min(data$Speech)])))\n",
      "print(c(\"Title:\", as.character(data$Link[data$Speech == min(data$Speech)])))\n",
      "\n",
      "minsent=data$Day[data$Speech == min(data$Speech)]\n",
      "print(c(\"Date:\", minsent))\n",
      "minsenttime=data$Time[data$Speech == min(data$Speech)]\n",
      "print(c(\"Time:\", as.character(minsenttime)))\n",
      "minsenttimemins=timetomins(minsenttime)-390\n",
      "print(c(\"Minutes into Market:\",minsenttimemins))\n",
      "plot(x=2:810, as.numeric(as.character(pricedata[, minsent][2:810])), ylab=\"SPY Prices\", main=\"SPY Prices on October 6, 2008\", xlab=\"Minutes into Market Hours | 9:30-4:00\")\n",
      "abline(v=minsenttimemins, col=\"red\" )\n",
      "plot(x=1:808, as.numeric(as.character(pricedata[, minsent][815:1622])), ylab=\"VIX Prices\", main=\"VIX Prices on October 6, 2008\", xlab=\"Minutes into Market Hours | 9:30-4:00\")\n",
      "abline(v=minsenttimemins, col=\"red\" )"
     ],
     "language": "python",
     "metadata": {},
     "outputs": []
    },
    {
     "cell_type": "code",
     "collapsed": false,
     "input": [
      "%%file ./visualizations/bushregtable\n",
      "\n",
      "bushdata = data[data$Name == 'Bush',]\n",
      "\n",
      "model = lm(data$ChangeSP ~ data$Speech + data$SenateRep + data$HORRep + data$Unemployment + data$FedFunds, data = bushdata)\n",
      "print(summary(model))"
     ],
     "language": "python",
     "metadata": {},
     "outputs": [
      {
       "output_type": "stream",
       "stream": "stdout",
       "text": [
        "Overwriting ./visualizations/bushregtable\n"
       ]
      }
     ],
     "prompt_number": 17
    },
    {
     "cell_type": "code",
     "collapsed": false,
     "input": [],
     "language": "python",
     "metadata": {},
     "outputs": []
    }
   ],
   "metadata": {}
  }
 ]
}